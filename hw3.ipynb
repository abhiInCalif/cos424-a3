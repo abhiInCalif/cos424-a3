{
 "cells": [
  {
   "cell_type": "code",
   "execution_count": 1,
   "metadata": {
    "collapsed": true
   },
   "outputs": [],
   "source": [
    "# This pipeline will test collaborative filtering as a means of guessing\n",
    "# which users will interact in the future.\n",
    "# Definition of steps:\n",
    "# Import data,\n",
    "# create the collaborative filtering scheme, and pass the data through the collaborative filter.\n",
    "# use the scheme to predict which pairs will interact at a future time."
   ]
  },
  {
   "cell_type": "code",
   "execution_count": 1,
   "metadata": {
    "collapsed": false
   },
   "outputs": [],
   "source": [
    "import numpy as np\n",
    "import pandas as pd\n",
    "import matplotlib\n",
    "matplotlib.use('TKAgg')\n",
    "from matplotlib import pyplot as plt\n",
    "from scipy.spatial.distance import cosine\n",
    "\n",
    "from sklearn.decomposition import PCA\n",
    "from scipy.stats import pearsonr\n",
    "from scipy.sparse import dok_matrix, csr_matrix\n",
    "import scipy\n",
    "from sklearn.cluster import KMeans\n",
    "from collections import Counter\n",
    "from sklearn.metrics import roc_curve, auc"
   ]
  },
  {
   "cell_type": "code",
   "execution_count": 7,
   "metadata": {
    "collapsed": false
   },
   "outputs": [
    {
     "data": {
      "text/plain": [
       "count    3.348026e+06\n",
       "mean     4.725741e+00\n",
       "std      1.284948e+02\n",
       "min      1.000000e+00\n",
       "25%      1.000000e+00\n",
       "50%      1.000000e+00\n",
       "75%      2.000000e+00\n",
       "max      4.163900e+04\n",
       "Name: transaction, dtype: float64"
      ]
     },
     "execution_count": 7,
     "metadata": {},
     "output_type": "execute_result"
    }
   ],
   "source": [
    "dftrain = pd.read_csv('data/txTripletsCounts.txt',\n",
    "                      header=None,\n",
    "                      index_col=None,\n",
    "                      sep=' ',\n",
    "                      names=['sender','receiver','transaction'])\n",
    "dftest = pd.read_csv('data/testTriplets.txt', \n",
    "                     header=None, \n",
    "                     index_col=None, \n",
    "                     sep=\" \", \n",
    "                     names=['sender', 'receiver', 'transaction'])\n",
    "dftrain['transaction'].describe()"
   ]
  },
  {
   "cell_type": "code",
   "execution_count": 4,
   "metadata": {
    "collapsed": false
   },
   "outputs": [
    {
     "data": {
      "text/html": [
       "<div>\n",
       "<table border=\"1\" class=\"dataframe\">\n",
       "  <thead>\n",
       "    <tr style=\"text-align: right;\">\n",
       "      <th></th>\n",
       "      <th>sender</th>\n",
       "      <th>receiver</th>\n",
       "      <th>transaction</th>\n",
       "    </tr>\n",
       "  </thead>\n",
       "  <tbody>\n",
       "    <tr>\n",
       "      <th>0</th>\n",
       "      <td>0</td>\n",
       "      <td>1</td>\n",
       "      <td>3</td>\n",
       "    </tr>\n",
       "    <tr>\n",
       "      <th>1</th>\n",
       "      <td>0</td>\n",
       "      <td>13</td>\n",
       "      <td>1</td>\n",
       "    </tr>\n",
       "    <tr>\n",
       "      <th>2</th>\n",
       "      <td>0</td>\n",
       "      <td>37</td>\n",
       "      <td>1</td>\n",
       "    </tr>\n",
       "    <tr>\n",
       "      <th>3</th>\n",
       "      <td>0</td>\n",
       "      <td>51</td>\n",
       "      <td>1</td>\n",
       "    </tr>\n",
       "    <tr>\n",
       "      <th>4</th>\n",
       "      <td>0</td>\n",
       "      <td>438481</td>\n",
       "      <td>1</td>\n",
       "    </tr>\n",
       "    <tr>\n",
       "      <th>5</th>\n",
       "      <td>1</td>\n",
       "      <td>0</td>\n",
       "      <td>3</td>\n",
       "    </tr>\n",
       "    <tr>\n",
       "      <th>6</th>\n",
       "      <td>1</td>\n",
       "      <td>4</td>\n",
       "      <td>354</td>\n",
       "    </tr>\n",
       "    <tr>\n",
       "      <th>7</th>\n",
       "      <td>1</td>\n",
       "      <td>10</td>\n",
       "      <td>2602</td>\n",
       "    </tr>\n",
       "    <tr>\n",
       "      <th>8</th>\n",
       "      <td>1</td>\n",
       "      <td>11</td>\n",
       "      <td>2689</td>\n",
       "    </tr>\n",
       "    <tr>\n",
       "      <th>9</th>\n",
       "      <td>1</td>\n",
       "      <td>12</td>\n",
       "      <td>1</td>\n",
       "    </tr>\n",
       "    <tr>\n",
       "      <th>10</th>\n",
       "      <td>1</td>\n",
       "      <td>18</td>\n",
       "      <td>345</td>\n",
       "    </tr>\n",
       "    <tr>\n",
       "      <th>11</th>\n",
       "      <td>1</td>\n",
       "      <td>19</td>\n",
       "      <td>311</td>\n",
       "    </tr>\n",
       "    <tr>\n",
       "      <th>12</th>\n",
       "      <td>1</td>\n",
       "      <td>23</td>\n",
       "      <td>1</td>\n",
       "    </tr>\n",
       "    <tr>\n",
       "      <th>13</th>\n",
       "      <td>1</td>\n",
       "      <td>24</td>\n",
       "      <td>366</td>\n",
       "    </tr>\n",
       "    <tr>\n",
       "      <th>14</th>\n",
       "      <td>1</td>\n",
       "      <td>27</td>\n",
       "      <td>2622</td>\n",
       "    </tr>\n",
       "    <tr>\n",
       "      <th>15</th>\n",
       "      <td>1</td>\n",
       "      <td>31</td>\n",
       "      <td>2659</td>\n",
       "    </tr>\n",
       "    <tr>\n",
       "      <th>16</th>\n",
       "      <td>1</td>\n",
       "      <td>32</td>\n",
       "      <td>2658</td>\n",
       "    </tr>\n",
       "    <tr>\n",
       "      <th>17</th>\n",
       "      <td>1</td>\n",
       "      <td>36</td>\n",
       "      <td>392</td>\n",
       "    </tr>\n",
       "    <tr>\n",
       "      <th>18</th>\n",
       "      <td>1</td>\n",
       "      <td>39</td>\n",
       "      <td>2596</td>\n",
       "    </tr>\n",
       "    <tr>\n",
       "      <th>19</th>\n",
       "      <td>1</td>\n",
       "      <td>40</td>\n",
       "      <td>2579</td>\n",
       "    </tr>\n",
       "    <tr>\n",
       "      <th>20</th>\n",
       "      <td>1</td>\n",
       "      <td>43</td>\n",
       "      <td>2584</td>\n",
       "    </tr>\n",
       "    <tr>\n",
       "      <th>21</th>\n",
       "      <td>1</td>\n",
       "      <td>44</td>\n",
       "      <td>2628</td>\n",
       "    </tr>\n",
       "    <tr>\n",
       "      <th>22</th>\n",
       "      <td>1</td>\n",
       "      <td>45</td>\n",
       "      <td>2622</td>\n",
       "    </tr>\n",
       "    <tr>\n",
       "      <th>23</th>\n",
       "      <td>1</td>\n",
       "      <td>47</td>\n",
       "      <td>2684</td>\n",
       "    </tr>\n",
       "    <tr>\n",
       "      <th>24</th>\n",
       "      <td>1</td>\n",
       "      <td>50</td>\n",
       "      <td>3</td>\n",
       "    </tr>\n",
       "    <tr>\n",
       "      <th>25</th>\n",
       "      <td>1</td>\n",
       "      <td>58</td>\n",
       "      <td>2644</td>\n",
       "    </tr>\n",
       "    <tr>\n",
       "      <th>26</th>\n",
       "      <td>1</td>\n",
       "      <td>62</td>\n",
       "      <td>362</td>\n",
       "    </tr>\n",
       "    <tr>\n",
       "      <th>27</th>\n",
       "      <td>1</td>\n",
       "      <td>63</td>\n",
       "      <td>354</td>\n",
       "    </tr>\n",
       "    <tr>\n",
       "      <th>28</th>\n",
       "      <td>1</td>\n",
       "      <td>64</td>\n",
       "      <td>340</td>\n",
       "    </tr>\n",
       "    <tr>\n",
       "      <th>29</th>\n",
       "      <td>1</td>\n",
       "      <td>68</td>\n",
       "      <td>2589</td>\n",
       "    </tr>\n",
       "    <tr>\n",
       "      <th>...</th>\n",
       "      <td>...</td>\n",
       "      <td>...</td>\n",
       "      <td>...</td>\n",
       "    </tr>\n",
       "    <tr>\n",
       "      <th>3347996</th>\n",
       "      <td>444045</td>\n",
       "      <td>25146</td>\n",
       "      <td>1</td>\n",
       "    </tr>\n",
       "    <tr>\n",
       "      <th>3347997</th>\n",
       "      <td>444046</td>\n",
       "      <td>18165</td>\n",
       "      <td>1</td>\n",
       "    </tr>\n",
       "    <tr>\n",
       "      <th>3347998</th>\n",
       "      <td>444048</td>\n",
       "      <td>322830</td>\n",
       "      <td>1</td>\n",
       "    </tr>\n",
       "    <tr>\n",
       "      <th>3347999</th>\n",
       "      <td>444049</td>\n",
       "      <td>25023</td>\n",
       "      <td>1</td>\n",
       "    </tr>\n",
       "    <tr>\n",
       "      <th>3348000</th>\n",
       "      <td>444050</td>\n",
       "      <td>205238</td>\n",
       "      <td>1</td>\n",
       "    </tr>\n",
       "    <tr>\n",
       "      <th>3348001</th>\n",
       "      <td>444051</td>\n",
       "      <td>267780</td>\n",
       "      <td>1</td>\n",
       "    </tr>\n",
       "    <tr>\n",
       "      <th>3348002</th>\n",
       "      <td>444052</td>\n",
       "      <td>123321</td>\n",
       "      <td>1</td>\n",
       "    </tr>\n",
       "    <tr>\n",
       "      <th>3348003</th>\n",
       "      <td>444053</td>\n",
       "      <td>71564</td>\n",
       "      <td>1</td>\n",
       "    </tr>\n",
       "    <tr>\n",
       "      <th>3348004</th>\n",
       "      <td>444054</td>\n",
       "      <td>32502</td>\n",
       "      <td>1</td>\n",
       "    </tr>\n",
       "    <tr>\n",
       "      <th>3348005</th>\n",
       "      <td>444055</td>\n",
       "      <td>13430</td>\n",
       "      <td>1</td>\n",
       "    </tr>\n",
       "    <tr>\n",
       "      <th>3348006</th>\n",
       "      <td>444055</td>\n",
       "      <td>61111</td>\n",
       "      <td>1</td>\n",
       "    </tr>\n",
       "    <tr>\n",
       "      <th>3348007</th>\n",
       "      <td>444056</td>\n",
       "      <td>74287</td>\n",
       "      <td>1</td>\n",
       "    </tr>\n",
       "    <tr>\n",
       "      <th>3348008</th>\n",
       "      <td>444057</td>\n",
       "      <td>158138</td>\n",
       "      <td>1</td>\n",
       "    </tr>\n",
       "    <tr>\n",
       "      <th>3348009</th>\n",
       "      <td>444058</td>\n",
       "      <td>171127</td>\n",
       "      <td>1</td>\n",
       "    </tr>\n",
       "    <tr>\n",
       "      <th>3348010</th>\n",
       "      <td>444059</td>\n",
       "      <td>34756</td>\n",
       "      <td>1</td>\n",
       "    </tr>\n",
       "    <tr>\n",
       "      <th>3348011</th>\n",
       "      <td>444059</td>\n",
       "      <td>41525</td>\n",
       "      <td>1</td>\n",
       "    </tr>\n",
       "    <tr>\n",
       "      <th>3348012</th>\n",
       "      <td>444060</td>\n",
       "      <td>4314</td>\n",
       "      <td>1</td>\n",
       "    </tr>\n",
       "    <tr>\n",
       "      <th>3348013</th>\n",
       "      <td>444061</td>\n",
       "      <td>4314</td>\n",
       "      <td>1</td>\n",
       "    </tr>\n",
       "    <tr>\n",
       "      <th>3348014</th>\n",
       "      <td>444062</td>\n",
       "      <td>134127</td>\n",
       "      <td>1</td>\n",
       "    </tr>\n",
       "    <tr>\n",
       "      <th>3348015</th>\n",
       "      <td>444063</td>\n",
       "      <td>444064</td>\n",
       "      <td>1</td>\n",
       "    </tr>\n",
       "    <tr>\n",
       "      <th>3348016</th>\n",
       "      <td>444065</td>\n",
       "      <td>287654</td>\n",
       "      <td>1</td>\n",
       "    </tr>\n",
       "    <tr>\n",
       "      <th>3348017</th>\n",
       "      <td>444066</td>\n",
       "      <td>415691</td>\n",
       "      <td>1</td>\n",
       "    </tr>\n",
       "    <tr>\n",
       "      <th>3348018</th>\n",
       "      <td>444067</td>\n",
       "      <td>174541</td>\n",
       "      <td>1</td>\n",
       "    </tr>\n",
       "    <tr>\n",
       "      <th>3348019</th>\n",
       "      <td>444068</td>\n",
       "      <td>153917</td>\n",
       "      <td>1</td>\n",
       "    </tr>\n",
       "    <tr>\n",
       "      <th>3348020</th>\n",
       "      <td>444069</td>\n",
       "      <td>97048</td>\n",
       "      <td>1</td>\n",
       "    </tr>\n",
       "    <tr>\n",
       "      <th>3348021</th>\n",
       "      <td>444070</td>\n",
       "      <td>435075</td>\n",
       "      <td>1</td>\n",
       "    </tr>\n",
       "    <tr>\n",
       "      <th>3348022</th>\n",
       "      <td>444071</td>\n",
       "      <td>62271</td>\n",
       "      <td>1</td>\n",
       "    </tr>\n",
       "    <tr>\n",
       "      <th>3348023</th>\n",
       "      <td>444072</td>\n",
       "      <td>356856</td>\n",
       "      <td>1</td>\n",
       "    </tr>\n",
       "    <tr>\n",
       "      <th>3348024</th>\n",
       "      <td>444073</td>\n",
       "      <td>26841</td>\n",
       "      <td>1</td>\n",
       "    </tr>\n",
       "    <tr>\n",
       "      <th>3348025</th>\n",
       "      <td>444074</td>\n",
       "      <td>411870</td>\n",
       "      <td>1</td>\n",
       "    </tr>\n",
       "  </tbody>\n",
       "</table>\n",
       "<p>3348026 rows × 3 columns</p>\n",
       "</div>"
      ],
      "text/plain": [
       "         sender  receiver  transaction\n",
       "0             0         1            3\n",
       "1             0        13            1\n",
       "2             0        37            1\n",
       "3             0        51            1\n",
       "4             0    438481            1\n",
       "5             1         0            3\n",
       "6             1         4          354\n",
       "7             1        10         2602\n",
       "8             1        11         2689\n",
       "9             1        12            1\n",
       "10            1        18          345\n",
       "11            1        19          311\n",
       "12            1        23            1\n",
       "13            1        24          366\n",
       "14            1        27         2622\n",
       "15            1        31         2659\n",
       "16            1        32         2658\n",
       "17            1        36          392\n",
       "18            1        39         2596\n",
       "19            1        40         2579\n",
       "20            1        43         2584\n",
       "21            1        44         2628\n",
       "22            1        45         2622\n",
       "23            1        47         2684\n",
       "24            1        50            3\n",
       "25            1        58         2644\n",
       "26            1        62          362\n",
       "27            1        63          354\n",
       "28            1        64          340\n",
       "29            1        68         2589\n",
       "...         ...       ...          ...\n",
       "3347996  444045     25146            1\n",
       "3347997  444046     18165            1\n",
       "3347998  444048    322830            1\n",
       "3347999  444049     25023            1\n",
       "3348000  444050    205238            1\n",
       "3348001  444051    267780            1\n",
       "3348002  444052    123321            1\n",
       "3348003  444053     71564            1\n",
       "3348004  444054     32502            1\n",
       "3348005  444055     13430            1\n",
       "3348006  444055     61111            1\n",
       "3348007  444056     74287            1\n",
       "3348008  444057    158138            1\n",
       "3348009  444058    171127            1\n",
       "3348010  444059     34756            1\n",
       "3348011  444059     41525            1\n",
       "3348012  444060      4314            1\n",
       "3348013  444061      4314            1\n",
       "3348014  444062    134127            1\n",
       "3348015  444063    444064            1\n",
       "3348016  444065    287654            1\n",
       "3348017  444066    415691            1\n",
       "3348018  444067    174541            1\n",
       "3348019  444068    153917            1\n",
       "3348020  444069     97048            1\n",
       "3348021  444070    435075            1\n",
       "3348022  444071     62271            1\n",
       "3348023  444072    356856            1\n",
       "3348024  444073     26841            1\n",
       "3348025  444074    411870            1\n",
       "\n",
       "[3348026 rows x 3 columns]"
      ]
     },
     "execution_count": 4,
     "metadata": {},
     "output_type": "execute_result"
    }
   ],
   "source": [
    "dftrain # lets see what our data looks like, we can see that its sender, receiver, transaction counts"
   ]
  },
  {
   "cell_type": "code",
   "execution_count": 5,
   "metadata": {
    "collapsed": true
   },
   "outputs": [],
   "source": [
    "# Our collab filtering pipeline will go as follows (to test)\n",
    "# first we will construct the count matrix of transmitter2receiver with counts\n",
    "# then we will apply pca to get the lowest dimensionality representation\n",
    "# then we will use collaborative filtering to predict if any receiver transmitter pair would have an interaction\n",
    "# in the future."
   ]
  },
  {
   "cell_type": "code",
   "execution_count": 3,
   "metadata": {
    "collapsed": false
   },
   "outputs": [
    {
     "data": {
      "text/plain": [
       "array([[ 0.,  1.,  0., ...,  0.,  0.,  0.]])"
      ]
     },
     "execution_count": 3,
     "metadata": {},
     "output_type": "execute_result"
    }
   ],
   "source": [
    "# max sender numbe n = 444074\n",
    "n = 444075\n",
    "t2r_matrix = csr_matrix((dftrain['transaction'], (dftrain['sender'], dftrain['receiver'])), shape=(n,n), dtype=float)\n",
    "t2r_matrix[364,:].toarray()"
   ]
  },
  {
   "cell_type": "code",
   "execution_count": 4,
   "metadata": {
    "collapsed": false
   },
   "outputs": [
    {
     "ename": "KeyboardInterrupt",
     "evalue": "",
     "output_type": "error",
     "traceback": [
      "\u001b[0;31m---------------------------------------------------------------------------\u001b[0m",
      "\u001b[0;31mKeyboardInterrupt\u001b[0m                         Traceback (most recent call last)",
      "\u001b[0;32m<ipython-input-4-aedffbc12a1a>\u001b[0m in \u001b[0;36m<module>\u001b[0;34m()\u001b[0m\n\u001b[1;32m      2\u001b[0m \u001b[0mlda\u001b[0m \u001b[0;34m=\u001b[0m \u001b[0mLDA\u001b[0m\u001b[0;34m(\u001b[0m\u001b[0mn_topics\u001b[0m\u001b[0;34m=\u001b[0m\u001b[0;36m10\u001b[0m\u001b[0;34m)\u001b[0m\u001b[0;34m\u001b[0m\u001b[0m\n\u001b[1;32m      3\u001b[0m \u001b[0;34m\u001b[0m\u001b[0m\n\u001b[0;32m----> 4\u001b[0;31m \u001b[0mA\u001b[0m \u001b[0;34m=\u001b[0m \u001b[0mlda\u001b[0m\u001b[0;34m.\u001b[0m\u001b[0mfit_transform\u001b[0m\u001b[0;34m(\u001b[0m\u001b[0mt2r_matrix\u001b[0m\u001b[0;34m)\u001b[0m\u001b[0;34m\u001b[0m\u001b[0m\n\u001b[0m\u001b[1;32m      5\u001b[0m \u001b[0mB\u001b[0m \u001b[0;34m=\u001b[0m \u001b[0mlda\u001b[0m\u001b[0;34m.\u001b[0m\u001b[0mcomponents_\u001b[0m\u001b[0;34m(\u001b[0m\u001b[0;34m)\u001b[0m\u001b[0;34m\u001b[0m\u001b[0m\n",
      "\u001b[0;32m/Library/Frameworks/Python.framework/Versions/3.5/lib/python3.5/site-packages/sklearn/base.py\u001b[0m in \u001b[0;36mfit_transform\u001b[0;34m(self, X, y, **fit_params)\u001b[0m\n\u001b[1;32m    453\u001b[0m         \u001b[0;32mif\u001b[0m \u001b[0my\u001b[0m \u001b[0;32mis\u001b[0m \u001b[0;32mNone\u001b[0m\u001b[0;34m:\u001b[0m\u001b[0;34m\u001b[0m\u001b[0m\n\u001b[1;32m    454\u001b[0m             \u001b[0;31m# fit method of arity 1 (unsupervised transformation)\u001b[0m\u001b[0;34m\u001b[0m\u001b[0;34m\u001b[0m\u001b[0m\n\u001b[0;32m--> 455\u001b[0;31m             \u001b[0;32mreturn\u001b[0m \u001b[0mself\u001b[0m\u001b[0;34m.\u001b[0m\u001b[0mfit\u001b[0m\u001b[0;34m(\u001b[0m\u001b[0mX\u001b[0m\u001b[0;34m,\u001b[0m \u001b[0;34m**\u001b[0m\u001b[0mfit_params\u001b[0m\u001b[0;34m)\u001b[0m\u001b[0;34m.\u001b[0m\u001b[0mtransform\u001b[0m\u001b[0;34m(\u001b[0m\u001b[0mX\u001b[0m\u001b[0;34m)\u001b[0m\u001b[0;34m\u001b[0m\u001b[0m\n\u001b[0m\u001b[1;32m    456\u001b[0m         \u001b[0;32melse\u001b[0m\u001b[0;34m:\u001b[0m\u001b[0;34m\u001b[0m\u001b[0m\n\u001b[1;32m    457\u001b[0m             \u001b[0;31m# fit method of arity 2 (supervised transformation)\u001b[0m\u001b[0;34m\u001b[0m\u001b[0;34m\u001b[0m\u001b[0m\n",
      "\u001b[0;32m/Library/Frameworks/Python.framework/Versions/3.5/lib/python3.5/site-packages/sklearn/decomposition/online_lda.py\u001b[0m in \u001b[0;36mfit\u001b[0;34m(self, X, y)\u001b[0m\n\u001b[1;32m    509\u001b[0m                     \u001b[0;32mfor\u001b[0m \u001b[0midx_slice\u001b[0m \u001b[0;32min\u001b[0m \u001b[0mgen_batches\u001b[0m\u001b[0;34m(\u001b[0m\u001b[0mn_samples\u001b[0m\u001b[0;34m,\u001b[0m \u001b[0mbatch_size\u001b[0m\u001b[0;34m)\u001b[0m\u001b[0;34m:\u001b[0m\u001b[0;34m\u001b[0m\u001b[0m\n\u001b[1;32m    510\u001b[0m                         self._em_step(X[idx_slice, :], total_samples=n_samples,\n\u001b[0;32m--> 511\u001b[0;31m                                       batch_update=False, parallel=parallel)\n\u001b[0m\u001b[1;32m    512\u001b[0m                 \u001b[0;32melse\u001b[0m\u001b[0;34m:\u001b[0m\u001b[0;34m\u001b[0m\u001b[0m\n\u001b[1;32m    513\u001b[0m                     \u001b[0;31m# batch update\u001b[0m\u001b[0;34m\u001b[0m\u001b[0;34m\u001b[0m\u001b[0m\n",
      "\u001b[0;32m/Library/Frameworks/Python.framework/Versions/3.5/lib/python3.5/site-packages/sklearn/decomposition/online_lda.py\u001b[0m in \u001b[0;36m_em_step\u001b[0;34m(self, X, total_samples, batch_update, parallel)\u001b[0m\n\u001b[1;32m    420\u001b[0m         \u001b[0;31m# update `component_` related variables\u001b[0m\u001b[0;34m\u001b[0m\u001b[0;34m\u001b[0m\u001b[0m\n\u001b[1;32m    421\u001b[0m         self.exp_dirichlet_component_ = np.exp(\n\u001b[0;32m--> 422\u001b[0;31m             _dirichlet_expectation_2d(self.components_))\n\u001b[0m\u001b[1;32m    423\u001b[0m         \u001b[0mself\u001b[0m\u001b[0;34m.\u001b[0m\u001b[0mn_batch_iter_\u001b[0m \u001b[0;34m+=\u001b[0m \u001b[0;36m1\u001b[0m\u001b[0;34m\u001b[0m\u001b[0m\n\u001b[1;32m    424\u001b[0m         \u001b[0;32mreturn\u001b[0m\u001b[0;34m\u001b[0m\u001b[0m\n",
      "\u001b[0;31mKeyboardInterrupt\u001b[0m: "
     ]
    }
   ],
   "source": [
    "from sklearn.decomposition import LatentDirichletAllocation as LDA\n",
    "lda = LDA(n_topics=10)\n",
    "\n",
    "A = lda.fit_transform(t2r_matrix)\n",
    "B = lda.components_()"
   ]
  },
  {
   "cell_type": "code",
   "execution_count": null,
   "metadata": {
    "collapsed": true
   },
   "outputs": [],
   "source": [
    "pred = [np.sum(A[row['sender'],:] * B[:,row['receiver']]) \n",
    "        for index,row in dftest.iterrows()]\n",
    "label = dftest['transaction']\n",
    "fpr, tpr, thresholds = roc_curve(label, pred)\n",
    "roc_auc = auc(fpr, tpr)\n",
    "print \"Area under the ROC curve : %f\" % roc_auc\n",
    "matplotlib.rcParams['figure.figsize'] = (10, 10)\n",
    "plt.plot(fpr, tpr, color='magenta', label='ROC curve (area = %0.2f)' % roc_auc)\n",
    "plt.plot([0, 1], [0, 1], 'k--')\n",
    "plt.xlim([0.0, 1.0])\n",
    "plt.ylim([0.0, 1.05])\n",
    "plt.xlabel('False Positive Rate')\n",
    "plt.ylabel('True Positive Rate')\n",
    "plt.title('Receiver operating characteristic example')\n",
    "plt.legend(loc=\"lower right\")\n",
    "plt.show()"
   ]
  },
  {
   "cell_type": "code",
   "execution_count": 4,
   "metadata": {
    "collapsed": false
   },
   "outputs": [],
   "source": [
    "# create adjacency-list graph G = (V, E)\n",
    "N = 444075\n",
    "G = [[] for i in range(N)]\n",
    "for (index, sender, receiver, count) in dftrain.itertuples():\n",
    "    G[sender].append(receiver)\n"
   ]
  },
  {
   "cell_type": "code",
   "execution_count": 5,
   "metadata": {
    "collapsed": false
   },
   "outputs": [],
   "source": [
    "# create transpose adjacency-list graph Gt = (V, E')\n",
    "Gt = [[] for i in range(N)]\n",
    "for (index, sender, receiver, count) in dftrain.itertuples():\n",
    "    Gt[receiver].append(sender)"
   ]
  },
  {
   "cell_type": "code",
   "execution_count": 6,
   "metadata": {
    "collapsed": true
   },
   "outputs": [],
   "source": [
    "G_uni = [[] for i in range(N)]\n",
    "for (index, sender, receiver, count) in dftrain.itertuples():\n",
    "    G_uni[sender].append(receiver)\n",
    "    G_uni[receiver].append(sender)"
   ]
  },
  {
   "cell_type": "code",
   "execution_count": 8,
   "metadata": {
    "collapsed": false
   },
   "outputs": [],
   "source": [
    "# Lets reduce dimensionality first!\n",
    "from scipy.sparse.linalg import svds\n",
    "epsilon = 1e-10\n",
    "new_dim = 10\n",
    "u, s, vt = svds(t2r_matrix, k=new_dim, tol=epsilon, which='LM')"
   ]
  },
  {
   "cell_type": "code",
   "execution_count": 9,
   "metadata": {
    "collapsed": false
   },
   "outputs": [],
   "source": [
    "v = vt.transpose()"
   ]
  },
  {
   "cell_type": "code",
   "execution_count": 10,
   "metadata": {
    "collapsed": false
   },
   "outputs": [
    {
     "data": {
      "text/plain": [
       "True"
      ]
     },
     "execution_count": 10,
     "metadata": {},
     "output_type": "execute_result"
    }
   ],
   "source": [
    "d = 2\n",
    "def isConnected(S, R, D):\n",
    "    # S and R are points on the Graph G, and can be indexed via the adjacency-list\n",
    "    def isConnectedRec(s_un, depthRemaining, isTranspose):\n",
    "        # iterate through s_un, look at all their neighbors in the corresonding graph\n",
    "        rec_set = set([])\n",
    "        if depthRemaining == 0:\n",
    "            return False\n",
    "        for v in s_un:\n",
    "            if isTranspose:\n",
    "                for sender in Gt[v]:\n",
    "                    rec_set.add(sender)\n",
    "            else:\n",
    "                for child in G[v]:\n",
    "                    if child == R and depthRemaining % 2 == 1:\n",
    "                        return True\n",
    "                    rec_set.add(child)\n",
    "        return isConnectedRec(rec_set, depthRemaining - 1, ~isTranspose)\n",
    "    return isConnectedRec(set([S]), D, False)\n",
    "isConnected(0, 2, 3)"
   ]
  },
  {
   "cell_type": "code",
   "execution_count": 11,
   "metadata": {
    "collapsed": false
   },
   "outputs": [
    {
     "data": {
      "text/plain": [
       "True"
      ]
     },
     "execution_count": 11,
     "metadata": {},
     "output_type": "execute_result"
    }
   ],
   "source": [
    "from scipy.spatial.distance import cosine\n",
    "\n",
    "def simConnected(S, R, D):\n",
    "    threshold = 1.0\n",
    "    R_vec = v[R]\n",
    "    S_vec = u[S]\n",
    "    # S and R are points on the Graph G, and can be indexed via the adjacency-list\n",
    "    def simConnectedRec(s_un, depthRemaining, isTranspose):\n",
    "        # iterate through s_un, look at all their neighbors in the corresonding graph\n",
    "        rec_set = set([])\n",
    "        if depthRemaining == 0:\n",
    "            return False\n",
    "        for vertex in s_un:\n",
    "            if isTranspose:\n",
    "                for sender in Gt[vertex]:\n",
    "                    sender_vec = u[sender]\n",
    "                    similarity_score = cosine(S_vec, sender_vec)\n",
    "                    if similarity_score > threshold:\n",
    "                        rec_set.add(sender)\n",
    "            else:\n",
    "                for child in G[vertex]:\n",
    "                    if child == R and depthRemaining % 2 == 1:\n",
    "                        return True\n",
    "                    child_vec = v[child]\n",
    "                    similarity_score = cosine(R_vec, child_vec)\n",
    "                    if similarity_score > threshold:\n",
    "                        rec_set.add(child)\n",
    "        return simConnectedRec(rec_set, depthRemaining - 1, ~isTranspose)\n",
    "    return simConnectedRec(set([S]), D, False)\n",
    "simConnected(1,16,3)"
   ]
  },
  {
   "cell_type": "code",
   "execution_count": 12,
   "metadata": {
    "collapsed": false
   },
   "outputs": [
    {
     "data": {
      "text/plain": [
       "0.9658072810260805"
      ]
     },
     "execution_count": 12,
     "metadata": {},
     "output_type": "execute_result"
    }
   ],
   "source": [
    "import math\n",
    "mean_score = 100343.0\n",
    "def volatilityScore(v, isSender):\n",
    "    # given any vertex v, assess its volatility\n",
    "    # assumption is that high volatility on a sender or receiver side has implications about their ability to meet\n",
    "    # or form new connections\n",
    "    graph = G\n",
    "    graph_flip = Gt\n",
    "    if not isSender:\n",
    "        graph = Gt\n",
    "        graph_flip = G\n",
    "        \n",
    "    v_neigh_list = graph[v]\n",
    "    score = len(v_neigh_list)\n",
    "    for neigh in v_neigh_list:\n",
    "        # you are going to get the indegree\n",
    "        neigh_list = graph_flip[neigh]\n",
    "        score = score + len(neigh_list) - 1 # otherwise you count yourself.\n",
    "    return (score - mean_score)/mean_score\n",
    "volatilityScore(4000, True)\n",
    "\n",
    "# calculate mean volatility\n",
    "# total_score = 0.0\n",
    "# items = 0.0\n",
    "# for v in range(len(G)):\n",
    "#     items = items + 1\n",
    "#     total_score = total_score + volatilityScore(v, True)\n",
    "\n",
    "# mean_score = total_score / len(G)\n"
   ]
  },
  {
   "cell_type": "code",
   "execution_count": null,
   "metadata": {
    "collapsed": false
   },
   "outputs": [],
   "source": [
    "dftest"
   ]
  },
  {
   "cell_type": "code",
   "execution_count": 16,
   "metadata": {
    "collapsed": false
   },
   "outputs": [
    {
     "name": "stdout",
     "output_type": "stream",
     "text": [
      "0\n",
      "1\n",
      "2\n",
      "3\n",
      "4\n",
      "5\n",
      "6\n",
      "7\n",
      "8\n",
      "9\n",
      "10\n",
      "11\n",
      "12\n",
      "13\n",
      "14\n",
      "15\n",
      "16\n",
      "17\n",
      "18\n",
      "19\n",
      "20\n",
      "21\n",
      "22\n",
      "23\n",
      "24\n",
      "25\n",
      "26\n",
      "27\n",
      "28\n",
      "29\n",
      "30\n",
      "31\n",
      "32\n",
      "33\n",
      "34\n",
      "35\n",
      "36\n",
      "37\n",
      "38\n",
      "39\n",
      "40\n",
      "41\n",
      "42\n",
      "43\n",
      "44\n",
      "45\n",
      "46\n",
      "47\n",
      "48\n",
      "49\n",
      "50\n",
      "Area under the ROC curve : 0.504934\n"
     ]
    }
   ],
   "source": [
    "# # Time to test this crap.\n",
    "# pred = [isConnected(sender,receiver,3) \n",
    "#         for index,sender,receiver,transaction  in dftest.itertuples()]\n",
    "pred = []\n",
    "count = 0\n",
    "for index,sender,receiver,transaction in dftest.itertuples():\n",
    "    a = isConnected(sender,receiver,3)\n",
    "    print count\n",
    "    count = count + 1\n",
    "    pred.append(a)\n",
    "\n",
    "label = dftest['transaction']\n",
    "fpr, tpr, thresholds = roc_curve(label, pred)\n",
    "roc_auc = auc(fpr, tpr)\n",
    "print \"Area under the ROC curve : %f\" % roc_auc\n",
    "# matplotlib.rcParams['figure.figsize'] = (10, 10)\n",
    "# plt.plot(fpr, tpr, color='magenta', label='ROC curve (area = %0.2f)' % roc_auc)\n",
    "# plt.plot([0, 1], [0, 1], 'k--')\n",
    "# plt.xlim([0.0, 1.0])\n",
    "# plt.ylim([0.0, 1.05])\n",
    "# plt.xlabel('False Positive Rate')\n",
    "# plt.ylabel('True Positive Rate')\n",
    "# plt.title('Receiver operating characteristic example')\n",
    "# plt.legend(loc=\"lower right\")\n",
    "# plt.show()"
   ]
  },
  {
   "cell_type": "code",
   "execution_count": 17,
   "metadata": {
    "collapsed": false
   },
   "outputs": [
    {
     "name": "stdout",
     "output_type": "stream",
     "text": [
      "Area under the ROC curve : 0.627467\n"
     ]
    }
   ],
   "source": [
    "# Test baseline volatility score metric\n",
    "# # Time to test this crap.\n",
    "# pred = [isConnected(sender,receiver,3) \n",
    "#         for index,sender,receiver,transaction  in dftest.itertuples()]\n",
    "pred = []\n",
    "count = 0\n",
    "for index,sender,receiver,transaction in dftest.itertuples():\n",
    "    a = volatilityScore(sender, True)\n",
    "    b = volatilityScore(receiver, False)\n",
    "    if a > -0.25 and b > -0.25:\n",
    "        pred.append(1)\n",
    "    else:\n",
    "        pred.append(0)\n",
    "#     print count\n",
    "    count = count + 1\n",
    "\n",
    "label = dftest['transaction']\n",
    "fpr, tpr, thresholds = roc_curve(label, pred)\n",
    "roc_auc = auc(fpr, tpr)\n",
    "print \"Area under the ROC curve : %f\" % roc_auc\n",
    "# matplotlib.rcParams['figure.figsize'] = (10, 10)\n",
    "# plt.plot(fpr, tpr, color='magenta', label='ROC curve (area = %0.2f)' % roc_auc)\n",
    "# plt.plot([0, 1], [0, 1], 'k--')\n",
    "# plt.xlim([0.0, 1.0])\n",
    "# plt.ylim([0.0, 1.05])\n",
    "# plt.xlabel('False Positive Rate')\n",
    "# plt.ylabel('True Positive Rate')\n",
    "# plt.title('Receiver operating characteristic example')\n",
    "# plt.legend(loc=\"lower right\")\n",
    "# plt.show()"
   ]
  },
  {
   "cell_type": "code",
   "execution_count": 18,
   "metadata": {
    "collapsed": false
   },
   "outputs": [],
   "source": [
    "# first time trial, we will run pure collaborative content based filtering, and see what happens just to get a\n",
    "# baseline measure done.\n",
    "# # this will iterate row wise, so first we will compare the interactions of row 1 to row 2 and so forth.\n",
    "# pearsonr_corr_matrix = dok_matrix((n,n))\n",
    "# for i in range(n):\n",
    "#     for j in range(n):\n",
    "#         row_dense = np.squeeze((t2r_matrix.tocsr()[i,:]).toarray().flatten().transpose())\n",
    "#         print row_dense.shape\n",
    "#         row2_dense = np.squeeze((t2r_matrix.tocsr()[j,:]).toarray().flatten().transpose())\n",
    "#         print row2_dense.shape\n",
    "#         pearsonr_corr_matrix[i, j] = pearsonr(row_dense, row2_dense)[0] # grab just the correlation value\n",
    "#         print i, j\n",
    "# pearsonr_corr_matrix"
   ]
  },
  {
   "cell_type": "code",
   "execution_count": 19,
   "metadata": {
    "collapsed": false
   },
   "outputs": [
    {
     "ename": "KeyboardInterrupt",
     "evalue": "",
     "output_type": "error",
     "traceback": [
      "\u001b[0;31m---------------------------------------------------------------------------\u001b[0m",
      "\u001b[0;31mKeyboardInterrupt\u001b[0m                         Traceback (most recent call last)",
      "\u001b[0;32m<ipython-input-19-f06522539a82>\u001b[0m in \u001b[0;36m<module>\u001b[0;34m()\u001b[0m\n\u001b[1;32m      3\u001b[0m \u001b[0mepsilon\u001b[0m \u001b[0;34m=\u001b[0m \u001b[0;36m1e-10\u001b[0m\u001b[0;34m\u001b[0m\u001b[0m\n\u001b[1;32m      4\u001b[0m \u001b[0mnew_dim\u001b[0m \u001b[0;34m=\u001b[0m \u001b[0;36m100\u001b[0m\u001b[0;34m\u001b[0m\u001b[0m\n\u001b[0;32m----> 5\u001b[0;31m \u001b[0mu\u001b[0m\u001b[0;34m,\u001b[0m \u001b[0ms\u001b[0m\u001b[0;34m,\u001b[0m \u001b[0mvt\u001b[0m \u001b[0;34m=\u001b[0m \u001b[0msvds\u001b[0m\u001b[0;34m(\u001b[0m\u001b[0mt2r_matrix\u001b[0m\u001b[0;34m,\u001b[0m \u001b[0mk\u001b[0m\u001b[0;34m=\u001b[0m\u001b[0mnew_dim\u001b[0m\u001b[0;34m,\u001b[0m \u001b[0mtol\u001b[0m\u001b[0;34m=\u001b[0m\u001b[0mepsilon\u001b[0m\u001b[0;34m,\u001b[0m \u001b[0mwhich\u001b[0m\u001b[0;34m=\u001b[0m\u001b[0;34m'LM'\u001b[0m\u001b[0;34m)\u001b[0m\u001b[0;34m\u001b[0m\u001b[0m\n\u001b[0m\u001b[1;32m      6\u001b[0m \u001b[0mv\u001b[0m \u001b[0;34m=\u001b[0m \u001b[0mvt\u001b[0m\u001b[0;34m.\u001b[0m\u001b[0mtranspose\u001b[0m\u001b[0;34m(\u001b[0m\u001b[0;34m)\u001b[0m\u001b[0;34m\u001b[0m\u001b[0m\n",
      "\u001b[0;32m/Users/abkhanna/Documents/workspace/Princeton/cos424/a2/lib/python2.7/site-packages/scipy/sparse/linalg/eigen/arpack/arpack.pyc\u001b[0m in \u001b[0;36msvds\u001b[0;34m(A, k, ncv, tol, which, v0, maxiter, return_singular_vectors)\u001b[0m\n\u001b[1;32m   1736\u001b[0m     \u001b[0;31m# This is not a stable way to approach the problem.\u001b[0m\u001b[0;34m\u001b[0m\u001b[0;34m\u001b[0m\u001b[0m\n\u001b[1;32m   1737\u001b[0m     eigvals, eigvec = eigsh(XH_X, k=k, tol=tol ** 2, maxiter=maxiter,\n\u001b[0;32m-> 1738\u001b[0;31m                                   ncv=ncv, which=which, v0=v0)\n\u001b[0m\u001b[1;32m   1739\u001b[0m \u001b[0;34m\u001b[0m\u001b[0m\n\u001b[1;32m   1740\u001b[0m     \u001b[0;31m# In 'LM' mode try to be clever about small eigenvalues.\u001b[0m\u001b[0;34m\u001b[0m\u001b[0;34m\u001b[0m\u001b[0m\n",
      "\u001b[0;32m/Users/abkhanna/Documents/workspace/Princeton/cos424/a2/lib/python2.7/site-packages/scipy/sparse/linalg/eigen/arpack/arpack.pyc\u001b[0m in \u001b[0;36meigsh\u001b[0;34m(A, k, M, sigma, which, v0, ncv, maxiter, tol, return_eigenvectors, Minv, OPinv, mode)\u001b[0m\n\u001b[1;32m   1587\u001b[0m \u001b[0;34m\u001b[0m\u001b[0m\n\u001b[1;32m   1588\u001b[0m     \u001b[0;32mwhile\u001b[0m \u001b[0;32mnot\u001b[0m \u001b[0mparams\u001b[0m\u001b[0;34m.\u001b[0m\u001b[0mconverged\u001b[0m\u001b[0;34m:\u001b[0m\u001b[0;34m\u001b[0m\u001b[0m\n\u001b[0;32m-> 1589\u001b[0;31m         \u001b[0mparams\u001b[0m\u001b[0;34m.\u001b[0m\u001b[0miterate\u001b[0m\u001b[0;34m(\u001b[0m\u001b[0;34m)\u001b[0m\u001b[0;34m\u001b[0m\u001b[0m\n\u001b[0m\u001b[1;32m   1590\u001b[0m \u001b[0;34m\u001b[0m\u001b[0m\n\u001b[1;32m   1591\u001b[0m     \u001b[0;32mreturn\u001b[0m \u001b[0mparams\u001b[0m\u001b[0;34m.\u001b[0m\u001b[0mextract\u001b[0m\u001b[0;34m(\u001b[0m\u001b[0mreturn_eigenvectors\u001b[0m\u001b[0;34m)\u001b[0m\u001b[0;34m\u001b[0m\u001b[0m\n",
      "\u001b[0;32m/Users/abkhanna/Documents/workspace/Princeton/cos424/a2/lib/python2.7/site-packages/scipy/sparse/linalg/eigen/arpack/arpack.pyc\u001b[0m in \u001b[0;36miterate\u001b[0;34m(self)\u001b[0m\n\u001b[1;32m    527\u001b[0m             self._arpack_solver(self.ido, self.bmat, self.which, self.k,\n\u001b[1;32m    528\u001b[0m                                 \u001b[0mself\u001b[0m\u001b[0;34m.\u001b[0m\u001b[0mtol\u001b[0m\u001b[0;34m,\u001b[0m \u001b[0mself\u001b[0m\u001b[0;34m.\u001b[0m\u001b[0mresid\u001b[0m\u001b[0;34m,\u001b[0m \u001b[0mself\u001b[0m\u001b[0;34m.\u001b[0m\u001b[0mv\u001b[0m\u001b[0;34m,\u001b[0m \u001b[0mself\u001b[0m\u001b[0;34m.\u001b[0m\u001b[0miparam\u001b[0m\u001b[0;34m,\u001b[0m\u001b[0;34m\u001b[0m\u001b[0m\n\u001b[0;32m--> 529\u001b[0;31m                                 self.ipntr, self.workd, self.workl, self.info)\n\u001b[0m\u001b[1;32m    530\u001b[0m \u001b[0;34m\u001b[0m\u001b[0m\n\u001b[1;32m    531\u001b[0m         \u001b[0mxslice\u001b[0m \u001b[0;34m=\u001b[0m \u001b[0mslice\u001b[0m\u001b[0;34m(\u001b[0m\u001b[0mself\u001b[0m\u001b[0;34m.\u001b[0m\u001b[0mipntr\u001b[0m\u001b[0;34m[\u001b[0m\u001b[0;36m0\u001b[0m\u001b[0;34m]\u001b[0m \u001b[0;34m-\u001b[0m \u001b[0;36m1\u001b[0m\u001b[0;34m,\u001b[0m \u001b[0mself\u001b[0m\u001b[0;34m.\u001b[0m\u001b[0mipntr\u001b[0m\u001b[0;34m[\u001b[0m\u001b[0;36m0\u001b[0m\u001b[0;34m]\u001b[0m \u001b[0;34m-\u001b[0m \u001b[0;36m1\u001b[0m \u001b[0;34m+\u001b[0m \u001b[0mself\u001b[0m\u001b[0;34m.\u001b[0m\u001b[0mn\u001b[0m\u001b[0;34m)\u001b[0m\u001b[0;34m\u001b[0m\u001b[0m\n",
      "\u001b[0;31mKeyboardInterrupt\u001b[0m: "
     ]
    }
   ],
   "source": [
    "# Lets reduce dimensionality first!\n",
    "from scipy.sparse.linalg import svds\n",
    "epsilon = 1e-10\n",
    "new_dim = 100\n",
    "u, s, vt = svds(t2r_matrix, k=new_dim, tol=epsilon, which='LM')\n",
    "v = vt.transpose()"
   ]
  },
  {
   "cell_type": "code",
   "execution_count": 13,
   "metadata": {
    "collapsed": false
   },
   "outputs": [
    {
     "data": {
      "text/plain": [
       "False"
      ]
     },
     "execution_count": 13,
     "metadata": {},
     "output_type": "execute_result"
    }
   ],
   "source": [
    "# Third pipeline\n",
    "# Given some R, get the senders it interacts with off the Gt graph\n",
    "# Get the Rset that are in the interaction set for those senders\n",
    "# compute the pearson similarity on those set of Receivers.\n",
    "# take top 10 receivers, and see if S has interacted with them in a maximal fashion\n",
    "def connectionByGraphSimilarity(S, R):\n",
    "    R_vec = v[R]\n",
    "    def getReceiverSet():\n",
    "        sender_set = Gt[R]\n",
    "        receiver_set = set()\n",
    "        for sender in sender_set:\n",
    "            for r in G[sender]:\n",
    "                receiver_set.add(r)\n",
    "        return receiver_set\n",
    "    \n",
    "    def computeReceiverSimilarity(receiver_set):\n",
    "        # (score, index) to store the similarity list\n",
    "        similarity_list = []\n",
    "        for r in receiver_set:\n",
    "            vec = v[r] # get the vector from the SVD matrix\n",
    "            score = cosine(R_vec, vec)\n",
    "            similarity_list.append((score, r))\n",
    "        return sorted(similarity_list, key=lambda tup: tup[0])\n",
    "\n",
    "    def isConnectedViaSimilar(scores, k, p):\n",
    "        # take top k vectors, and check if the sender is in the set\n",
    "        top_k_tuples = scores[-k:]\n",
    "        connected_count = 0.0\n",
    "        for (sc, index) in top_k_tuples:\n",
    "            for sender in Gt[index]:\n",
    "                if sender == S:\n",
    "                    connected_count = connected_count + 1.0\n",
    "#         print connected_count\n",
    "#         print connected_count / float(k)\n",
    "        if (connected_count / float(k)) > p:\n",
    "            return True\n",
    "        return False\n",
    "        \n",
    "    if S == R:\n",
    "        return True\n",
    "    \n",
    "    r_set = getReceiverSet()\n",
    "    sim_scores = computeReceiverSimilarity(r_set)\n",
    "#     print sim_scores\n",
    "    return isConnectedViaSimilar(sim_scores, 10, 0.25)\n",
    "connectionByGraphSimilarity(8,32443)"
   ]
  },
  {
   "cell_type": "code",
   "execution_count": 14,
   "metadata": {
    "collapsed": true
   },
   "outputs": [],
   "source": [
    "def numeric_connectedBySimilarity(S,R):\n",
    "    if connectionByGraphSimilarity(S, R):\n",
    "        return 1\n",
    "    else:\n",
    "        return 0"
   ]
  },
  {
   "cell_type": "code",
   "execution_count": null,
   "metadata": {
    "collapsed": false
   },
   "outputs": [],
   "source": [
    "pred = []\n",
    "count = 0\n",
    "for index,sender,receiver,transaction in dftest.itertuples():\n",
    "    if connectionByGraphSimilarity(sender, receiver):\n",
    "        pred.append(1)\n",
    "    else:\n",
    "        pred.append(0)\n",
    "#     print count\n",
    "    count = count + 1\n",
    "\n",
    "label = dftest['transaction']\n",
    "fpr, tpr, thresholds = roc_curve(label, pred)\n",
    "roc_auc = auc(fpr, tpr)\n",
    "print \"Area under the ROC curve : %f\" % roc_auc"
   ]
  },
  {
   "cell_type": "code",
   "execution_count": 15,
   "metadata": {
    "collapsed": false
   },
   "outputs": [],
   "source": [
    "# Jaccard similarity measure\n",
    "def jaccardSimilarity(S, R):\n",
    "    S_neighbors = set(G_uni[S])\n",
    "    R_neighbors = set(G_uni[R])\n",
    "    SR_intersection = S_neighbors.intersection(R_neighbors)\n",
    "    SR_union = S_neighbors.union(R_neighbors)\n",
    "    return float(len(SR_intersection)) / float(len(SR_union))"
   ]
  },
  {
   "cell_type": "code",
   "execution_count": null,
   "metadata": {
    "collapsed": false
   },
   "outputs": [],
   "source": [
    "total_jaccard = 0.0\n",
    "for i in range(0, 50):\n",
    "    for j in range(0, 50):\n",
    "        total_jaccard = total_jaccard + jaccardSimilarity(i, j)\n",
    "print total_jaccard / 2500.0"
   ]
  },
  {
   "cell_type": "code",
   "execution_count": null,
   "metadata": {
    "collapsed": false
   },
   "outputs": [],
   "source": [
    "# find the median\n",
    "jaccard_list = []\n",
    "for i in range(0,50):\n",
    "    for j in range(0,50):\n",
    "        jaccard_list.append(jaccardSimilarity(i, j))\n",
    "\n",
    "median_jaccard = np.median(jaccard_list)"
   ]
  },
  {
   "cell_type": "code",
   "execution_count": null,
   "metadata": {
    "collapsed": false
   },
   "outputs": [],
   "source": [
    "0.08 * median_jaccard"
   ]
  },
  {
   "cell_type": "code",
   "execution_count": null,
   "metadata": {
    "collapsed": false
   },
   "outputs": [],
   "source": [
    "pred = []\n",
    "count = 0\n",
    "for index,sender,receiver,transaction in dftest.itertuples():\n",
    "    if jaccardSimilarity(sender, receiver) > 0:\n",
    "        pred.append(1)\n",
    "    else:\n",
    "        pred.append(0)\n",
    "#     print count\n",
    "    count = count + 1\n",
    "\n",
    "label = dftest['transaction']\n",
    "fpr, tpr, thresholds = roc_curve(label, pred)\n",
    "roc_auc = auc(fpr, tpr)\n",
    "print \"Area under the ROC curve : %f\" % roc_auc"
   ]
  },
  {
   "cell_type": "code",
   "execution_count": 16,
   "metadata": {
    "collapsed": true
   },
   "outputs": [],
   "source": [
    "import math\n",
    "def preferentialScore(S, R):\n",
    "    S_neighbors = set(G_uni[S])\n",
    "    R_neighbors = set(G_uni[R])\n",
    "    return math.log(len(S_neighbors) * len(R_neighbors))"
   ]
  },
  {
   "cell_type": "code",
   "execution_count": 17,
   "metadata": {
    "collapsed": false
   },
   "outputs": [],
   "source": [
    "def jaccardAndPreferentialScore(S, R):\n",
    "    return 0.9 * jaccardSimilarity(S, R) + 0.1 * preferentialScore(S, R)\n"
   ]
  },
  {
   "cell_type": "code",
   "execution_count": 18,
   "metadata": {
    "collapsed": true
   },
   "outputs": [],
   "source": [
    "def jaccardAndVolatilityScore(S, R):\n",
    "    return 0.5 * jaccardSimilarity(S, R) + 0.5 * volatilityScore(S, R)"
   ]
  },
  {
   "cell_type": "code",
   "execution_count": 19,
   "metadata": {
    "collapsed": true
   },
   "outputs": [],
   "source": [
    "def jaccardAndVolatilityAndConnectionViaGraphSimilarity(S,R):\n",
    "    if connectionByGraphSimilarity(S,R):\n",
    "        return 0.33 + jaccardAndVolatilityScore(S,R)\n",
    "    else:\n",
    "        return jaccardAndVolatilityScore(S,R)"
   ]
  },
  {
   "cell_type": "code",
   "execution_count": null,
   "metadata": {
    "collapsed": false
   },
   "outputs": [],
   "source": [
    "1.39776250554 # median pref + jaccard"
   ]
  },
  {
   "cell_type": "code",
   "execution_count": null,
   "metadata": {
    "collapsed": true
   },
   "outputs": [],
   "source": [
    "0.127677740241 # median volatility + jaccard"
   ]
  },
  {
   "cell_type": "code",
   "execution_count": null,
   "metadata": {
    "collapsed": false
   },
   "outputs": [],
   "source": [
    "median_list = []\n",
    "for i in range(0, 50):\n",
    "    for j in range(0, 50):\n",
    "        median_list.append(jaccardAndVolatilityScore(i, j))\n",
    "median_prefAndJaccard = np.median(median_list)\n",
    "print median_prefAndJaccard"
   ]
  },
  {
   "cell_type": "code",
   "execution_count": null,
   "metadata": {
    "collapsed": false
   },
   "outputs": [],
   "source": [
    "median_list = []\n",
    "for i in range(40, 50):\n",
    "    for j in range(30, 40):\n",
    "        median_list.append(jaccardAndVolatilityAndConnectionViaGraphSimilarity(i, j))\n",
    "median_prefAndJaccard = np.median(median_list)\n",
    "print median_prefAndJaccard"
   ]
  },
  {
   "cell_type": "code",
   "execution_count": null,
   "metadata": {
    "collapsed": false
   },
   "outputs": [],
   "source": [
    "pred = []\n",
    "count = 0\n",
    "for index,sender,receiver,transaction in dftest.itertuples():\n",
    "    combined_score = jaccardAndVolatilityScore(sender, receiver)\n",
    "#     print combined_score\n",
    "    if combined_score > 0.45:\n",
    "        pred.append(1)\n",
    "    else:\n",
    "        pred.append(0)\n",
    "#     print count\n",
    "    count = count + 1\n",
    "\n",
    "label = dftest['transaction']\n",
    "fpr, tpr, thresholds = roc_curve(label, pred)\n",
    "roc_auc = auc(fpr, tpr)\n",
    "print \"Area under the ROC curve : %f\" % roc_auc"
   ]
  },
  {
   "cell_type": "code",
   "execution_count": 20,
   "metadata": {
    "collapsed": false
   },
   "outputs": [
    {
     "ename": "SyntaxError",
     "evalue": "Missing parentheses in call to 'print' (<ipython-input-20-65ce88dca079>, line 21)",
     "output_type": "error",
     "traceback": [
      "\u001b[0;36m  File \u001b[0;32m\"<ipython-input-20-65ce88dca079>\"\u001b[0;36m, line \u001b[0;32m21\u001b[0m\n\u001b[0;31m    print score\u001b[0m\n\u001b[0m              ^\u001b[0m\n\u001b[0;31mSyntaxError\u001b[0m\u001b[0;31m:\u001b[0m Missing parentheses in call to 'print'\n"
     ]
    }
   ],
   "source": [
    "# Building latent structure\n",
    "def classifyWithJaccart(S, R):\n",
    "    ub = 1.5\n",
    "    lb = 0.5\n",
    "    penalty = 1\n",
    "    bonus = 1\n",
    "    outDegree_S = len(G[S])\n",
    "    outDegree_R = len(G[R])\n",
    "    inDegree_S = len(Gt[S])\n",
    "    inDegree_R = len(Gt[R])\n",
    "    if outDegree_S == 0:\n",
    "        outDegree_S = ub + 10\n",
    "    if outDegree_R == 0:\n",
    "        outDegree_R = ub + 10\n",
    "    ratio_S = float(inDegree_S) / float(outDegree_S)\n",
    "    ratio_R = float(inDegree_R) / float(outDegree_R)\n",
    "#     print ratio_S\n",
    "#     print ratio_R\n",
    "    if ratio_S < lb and lb < ratio_R < ub:\n",
    "        score = bonus * jaccardSimilarity(S, R)\n",
    "        print score\n",
    "        return score\n",
    "    elif lb < ratio_S < ub and not (ratio_R < lb):\n",
    "        score = bonus * jaccardSimilarity(S, R)\n",
    "        print score\n",
    "        return score\n",
    "    else:\n",
    "        score = penalty * jaccardSimilarity(S, R)\n",
    "        print score\n",
    "        return score\n",
    "        "
   ]
  },
  {
   "cell_type": "code",
   "execution_count": null,
   "metadata": {
    "collapsed": false
   },
   "outputs": [],
   "source": [
    "pred = []\n",
    "count = 0\n",
    "for index,sender,receiver,transaction in dftest.itertuples():\n",
    "    combined_score = classifyWithJaccart(sender, receiver)\n",
    "#     print combined_score\n",
    "    if combined_score > 0.0001:\n",
    "        pred.append(1)\n",
    "    else:\n",
    "        pred.append(0)\n",
    "#     print count\n",
    "    count = count + 1\n",
    "\n",
    "label = dftest['transaction']\n",
    "fpr, tpr, thresholds = roc_curve(label, pred)\n",
    "roc_auc = auc(fpr, tpr)\n",
    "print \"Area under the ROC curve : %f\" % roc_auc"
   ]
  },
  {
   "cell_type": "code",
   "execution_count": 7,
   "metadata": {
    "collapsed": false
   },
   "outputs": [],
   "source": [
    "# Page Rank algorithm\n",
    "import networkx as nx\n",
    "\n",
    "G_networkx = nx.DiGraph()\n",
    "count_list = []\n",
    "for (index, sender, receiver, count) in dftrain.itertuples():\n",
    "    count_list.append(count)\n",
    "    G_networkx.add_weighted_edges_from([(sender, receiver, count)])\n"
   ]
  },
  {
   "cell_type": "code",
   "execution_count": 8,
   "metadata": {
    "collapsed": false
   },
   "outputs": [
    {
     "data": {
      "text/plain": [
       "3348026"
      ]
     },
     "execution_count": 8,
     "metadata": {},
     "output_type": "execute_result"
    }
   ],
   "source": [
    "G_networkx.size()"
   ]
  },
  {
   "cell_type": "code",
   "execution_count": 55,
   "metadata": {
    "collapsed": true
   },
   "outputs": [],
   "source": [
    "pr = nx.pagerank(G_networkx)"
   ]
  },
  {
   "cell_type": "code",
   "execution_count": 66,
   "metadata": {
    "collapsed": false
   },
   "outputs": [
    {
     "data": {
      "text/plain": [
       "9254"
      ]
     },
     "execution_count": 66,
     "metadata": {},
     "output_type": "execute_result"
    }
   ],
   "source": [
    "# find number of components\n",
    "nx.number_strongly_connected_components(G_networkx)"
   ]
  },
  {
   "cell_type": "code",
   "execution_count": 8,
   "metadata": {
    "collapsed": false
   },
   "outputs": [
    {
     "name": "stdout",
     "output_type": "stream",
     "text": [
      "444075\n",
      "computed components\n",
      "0\n",
      "1000\n",
      "2000\n",
      "3000\n",
      "4000\n",
      "5000\n",
      "6000\n",
      "7000\n",
      "8000\n",
      "9000\n"
     ]
    }
   ],
   "source": [
    "## Get Strongly Connected Components Data\n",
    "\n",
    "import sys\n",
    "\n",
    "number_nodes = len(G_networkx.nodes())\n",
    "\n",
    "print(number_nodes)\n",
    "sys.stdout.flush()\n",
    "\n",
    "scc_gen = nx.strongly_connected_component_subgraphs(G_networkx)\n",
    "print('computed components')\n",
    "sys.stdout.flush()\n",
    "\n",
    "#cout = 1\n",
    "#scc_graphs = []\n",
    "#for component in scc_gen:\n",
    "#    print(cout, \":\", len(nx.nodes(component))\n",
    "#    sys.stdout.flush()\n",
    "#    scc_graphs.append(component)\n",
    "#    cout = cout + 1\n",
    "#\n",
    "#print('put components in list')\n",
    "#sys.stdout.flush()\n",
    "    \n",
    "component_num = 0\n",
    "v_scc_component = [-1]*number_nodes\n",
    "v_scc_density = [-1]*number_nodes\n",
    "for component in scc_gen:\n",
    "    if (component_num % 1000 == 0):\n",
    "        print(component_num)\n",
    "    density = nx.density(component)\n",
    "    for v in nx.nodes_iter(component):\n",
    "        v_scc_component[v] = component_num\n",
    "        v_scc_density[v] = density\n",
    "    component_num = component_num + 1"
   ]
  },
  {
   "cell_type": "code",
   "execution_count": 14,
   "metadata": {
    "collapsed": false
   },
   "outputs": [
    {
     "name": "stdout",
     "output_type": "stream",
     "text": [
      "433676\n",
      "1.7547270178143767e-05\n",
      "1923\n"
     ]
    }
   ],
   "source": [
    "cnt = 0\n",
    "for v in range(number_nodes):\n",
    "    if v_scc_component[v] == 1923:\n",
    "        cnt = cnt + 1\n",
    "print(cnt)\n",
    "print(v_scc_density[100])\n",
    "print(v_scc_component[100])"
   ]
  },
  {
   "cell_type": "code",
   "execution_count": 56,
   "metadata": {
    "collapsed": false
   },
   "outputs": [
    {
     "name": "stdout",
     "output_type": "stream",
     "text": [
      "6.30384417422e-07\n"
     ]
    }
   ],
   "source": [
    "# now that we have calculated the page rank, we should investigate what this page rank represents\n",
    "pr_median = np.median(pr.values())\n",
    "print pr_median"
   ]
  },
  {
   "cell_type": "code",
   "execution_count": 57,
   "metadata": {
    "collapsed": false
   },
   "outputs": [
    {
     "name": "stdout",
     "output_type": "stream",
     "text": [
      "2.25187186849e-06\n"
     ]
    }
   ],
   "source": [
    "pr_mean = np.mean(pr.values())\n",
    "print pr_mean"
   ]
  },
  {
   "cell_type": "code",
   "execution_count": 60,
   "metadata": {
    "collapsed": false
   },
   "outputs": [
    {
     "name": "stdout",
     "output_type": "stream",
     "text": [
      "0.0808518536077\n"
     ]
    }
   ],
   "source": [
    "pr_3rd_percentile = np.percentile(pr.values(), 100)\n",
    "print pr_3rd_percentile"
   ]
  },
  {
   "cell_type": "code",
   "execution_count": 61,
   "metadata": {
    "collapsed": false
   },
   "outputs": [
    {
     "name": "stdout",
     "output_type": "stream",
     "text": [
      "0.0941045460319\n"
     ]
    }
   ],
   "source": [
    "print max(pr_values)"
   ]
  },
  {
   "cell_type": "code",
   "execution_count": 43,
   "metadata": {
    "collapsed": false
   },
   "outputs": [],
   "source": [
    "pr_values = pr.values()\n",
    "plt.hist(pr.values(), bins=np.arange(min(pr_values) - 0.0001, 0.01, 0.0001))\n",
    "plt.show()"
   ]
  },
  {
   "cell_type": "code",
   "execution_count": 45,
   "metadata": {
    "collapsed": true
   },
   "outputs": [],
   "source": [
    "# use blind PageRank first\n",
    "def pageRankLikelihood(S, R):\n",
    "    prscore_R = pr[R]\n",
    "    return prscore_R"
   ]
  },
  {
   "cell_type": "code",
   "execution_count": 52,
   "metadata": {
    "collapsed": false
   },
   "outputs": [
    {
     "name": "stdout",
     "output_type": "stream",
     "text": [
      "Area under the ROC curve : 0.468750\n"
     ]
    }
   ],
   "source": [
    "pred = []\n",
    "count = 0\n",
    "for index,sender,receiver,transaction in dftest.itertuples():\n",
    "    combined_score = pageRankLikelihood(sender, receiver)\n",
    "#     print combined_score\n",
    "    if combined_score > 0.0002:\n",
    "        pred.append(1)\n",
    "    else:\n",
    "        pred.append(0)\n",
    "#     print count\n",
    "    count = count + 1\n",
    "\n",
    "label = dftest['transaction']\n",
    "fpr, tpr, thresholds = roc_curve(label, pred)\n",
    "roc_auc = auc(fpr, tpr)\n",
    "print \"Area under the ROC curve : %f\" % roc_auc"
   ]
  },
  {
   "cell_type": "code",
   "execution_count": 26,
   "metadata": {
    "collapsed": false
   },
   "outputs": [],
   "source": [
    "def cv_create():\n",
    "    dftest.iloc[np.random.permutation(len(dftest))]\n",
    "    l = int(len(dftest)/2)\n",
    "    validate = dftest[:l]\n",
    "    test = dftest[l+1:]"
   ]
  },
  {
   "cell_type": "code",
   "execution_count": 21,
   "metadata": {
    "collapsed": false
   },
   "outputs": [
    {
     "ename": "TypeError",
     "evalue": "cannot do slice indexing on <class 'pandas.indexes.range.RangeIndex'> with these indexers [5000.0] of <class 'float'>",
     "output_type": "error",
     "traceback": [
      "\u001b[0;31m---------------------------------------------------------------------------\u001b[0m",
      "\u001b[0;31mTypeError\u001b[0m                                 Traceback (most recent call last)",
      "\u001b[0;32m<ipython-input-21-312aae3f6475>\u001b[0m in \u001b[0;36m<module>\u001b[0;34m()\u001b[0m\n\u001b[0;32m----> 1\u001b[0;31m \u001b[0mcv\u001b[0m\u001b[0;34m(\u001b[0m\u001b[0;34m)\u001b[0m\u001b[0;34m\u001b[0m\u001b[0m\n\u001b[0m",
      "\u001b[0;32m<ipython-input-20-48545e57ef8e>\u001b[0m in \u001b[0;36mcv\u001b[0;34m()\u001b[0m\n\u001b[1;32m      2\u001b[0m     \u001b[0mdftest\u001b[0m\u001b[0;34m.\u001b[0m\u001b[0miloc\u001b[0m\u001b[0;34m[\u001b[0m\u001b[0mnp\u001b[0m\u001b[0;34m.\u001b[0m\u001b[0mrandom\u001b[0m\u001b[0;34m.\u001b[0m\u001b[0mpermutation\u001b[0m\u001b[0;34m(\u001b[0m\u001b[0mlen\u001b[0m\u001b[0;34m(\u001b[0m\u001b[0mdftest\u001b[0m\u001b[0;34m)\u001b[0m\u001b[0;34m)\u001b[0m\u001b[0;34m]\u001b[0m\u001b[0;34m\u001b[0m\u001b[0m\n\u001b[1;32m      3\u001b[0m     \u001b[0mlength\u001b[0m \u001b[0;34m=\u001b[0m \u001b[0mint\u001b[0m\u001b[0;34m(\u001b[0m\u001b[0mlen\u001b[0m\u001b[0;34m(\u001b[0m\u001b[0mdftest\u001b[0m\u001b[0;34m)\u001b[0m\u001b[0;34m)\u001b[0m\u001b[0;34m\u001b[0m\u001b[0m\n\u001b[0;32m----> 4\u001b[0;31m     \u001b[0mvalidate\u001b[0m \u001b[0;34m=\u001b[0m \u001b[0mdftest\u001b[0m\u001b[0;34m[\u001b[0m\u001b[0;34m:\u001b[0m\u001b[0mlength\u001b[0m\u001b[0;34m/\u001b[0m\u001b[0;36m2\u001b[0m\u001b[0;34m]\u001b[0m\u001b[0;34m\u001b[0m\u001b[0m\n\u001b[0m\u001b[1;32m      5\u001b[0m     \u001b[0mtest\u001b[0m \u001b[0;34m=\u001b[0m \u001b[0mdftest\u001b[0m\u001b[0;34m[\u001b[0m\u001b[0mlength\u001b[0m\u001b[0;34m/\u001b[0m\u001b[0;36m2\u001b[0m\u001b[0;34m+\u001b[0m\u001b[0;36m1\u001b[0m\u001b[0;34m:\u001b[0m\u001b[0;34m]\u001b[0m\u001b[0;34m\u001b[0m\u001b[0m\n",
      "\u001b[0;32m/Library/Frameworks/Python.framework/Versions/3.5/lib/python3.5/site-packages/pandas/core/frame.py\u001b[0m in \u001b[0;36m__getitem__\u001b[0;34m(self, key)\u001b[0m\n\u001b[1;32m   1978\u001b[0m \u001b[0;34m\u001b[0m\u001b[0m\n\u001b[1;32m   1979\u001b[0m         \u001b[0;31m# see if we can slice the rows\u001b[0m\u001b[0;34m\u001b[0m\u001b[0;34m\u001b[0m\u001b[0m\n\u001b[0;32m-> 1980\u001b[0;31m         \u001b[0mindexer\u001b[0m \u001b[0;34m=\u001b[0m \u001b[0mconvert_to_index_sliceable\u001b[0m\u001b[0;34m(\u001b[0m\u001b[0mself\u001b[0m\u001b[0;34m,\u001b[0m \u001b[0mkey\u001b[0m\u001b[0;34m)\u001b[0m\u001b[0;34m\u001b[0m\u001b[0m\n\u001b[0m\u001b[1;32m   1981\u001b[0m         \u001b[0;32mif\u001b[0m \u001b[0mindexer\u001b[0m \u001b[0;32mis\u001b[0m \u001b[0;32mnot\u001b[0m \u001b[0;32mNone\u001b[0m\u001b[0;34m:\u001b[0m\u001b[0;34m\u001b[0m\u001b[0m\n\u001b[1;32m   1982\u001b[0m             \u001b[0;32mreturn\u001b[0m \u001b[0mself\u001b[0m\u001b[0;34m.\u001b[0m\u001b[0m_getitem_slice\u001b[0m\u001b[0;34m(\u001b[0m\u001b[0mindexer\u001b[0m\u001b[0;34m)\u001b[0m\u001b[0;34m\u001b[0m\u001b[0m\n",
      "\u001b[0;32m/Library/Frameworks/Python.framework/Versions/3.5/lib/python3.5/site-packages/pandas/core/indexing.py\u001b[0m in \u001b[0;36mconvert_to_index_sliceable\u001b[0;34m(obj, key)\u001b[0m\n\u001b[1;32m   1711\u001b[0m     \u001b[0midx\u001b[0m \u001b[0;34m=\u001b[0m \u001b[0mobj\u001b[0m\u001b[0;34m.\u001b[0m\u001b[0mindex\u001b[0m\u001b[0;34m\u001b[0m\u001b[0m\n\u001b[1;32m   1712\u001b[0m     \u001b[0;32mif\u001b[0m \u001b[0misinstance\u001b[0m\u001b[0;34m(\u001b[0m\u001b[0mkey\u001b[0m\u001b[0;34m,\u001b[0m \u001b[0mslice\u001b[0m\u001b[0;34m)\u001b[0m\u001b[0;34m:\u001b[0m\u001b[0;34m\u001b[0m\u001b[0m\n\u001b[0;32m-> 1713\u001b[0;31m         \u001b[0;32mreturn\u001b[0m \u001b[0midx\u001b[0m\u001b[0;34m.\u001b[0m\u001b[0m_convert_slice_indexer\u001b[0m\u001b[0;34m(\u001b[0m\u001b[0mkey\u001b[0m\u001b[0;34m,\u001b[0m \u001b[0mkind\u001b[0m\u001b[0;34m=\u001b[0m\u001b[0;34m'getitem'\u001b[0m\u001b[0;34m)\u001b[0m\u001b[0;34m\u001b[0m\u001b[0m\n\u001b[0m\u001b[1;32m   1714\u001b[0m \u001b[0;34m\u001b[0m\u001b[0m\n\u001b[1;32m   1715\u001b[0m     \u001b[0;32melif\u001b[0m \u001b[0misinstance\u001b[0m\u001b[0;34m(\u001b[0m\u001b[0mkey\u001b[0m\u001b[0;34m,\u001b[0m \u001b[0mcompat\u001b[0m\u001b[0;34m.\u001b[0m\u001b[0mstring_types\u001b[0m\u001b[0;34m)\u001b[0m\u001b[0;34m:\u001b[0m\u001b[0;34m\u001b[0m\u001b[0m\n",
      "\u001b[0;32m/Library/Frameworks/Python.framework/Versions/3.5/lib/python3.5/site-packages/pandas/indexes/base.py\u001b[0m in \u001b[0;36m_convert_slice_indexer\u001b[0;34m(self, key, kind)\u001b[0m\n\u001b[1;32m   1045\u001b[0m             \u001b[0;32mif\u001b[0m \u001b[0mself\u001b[0m\u001b[0;34m.\u001b[0m\u001b[0mis_integer\u001b[0m\u001b[0;34m(\u001b[0m\u001b[0;34m)\u001b[0m \u001b[0;32mor\u001b[0m \u001b[0mis_index_slice\u001b[0m\u001b[0;34m:\u001b[0m\u001b[0;34m\u001b[0m\u001b[0m\n\u001b[1;32m   1046\u001b[0m                 return slice(self._validate_indexer('slice', key.start, kind),\n\u001b[0;32m-> 1047\u001b[0;31m                              \u001b[0mself\u001b[0m\u001b[0;34m.\u001b[0m\u001b[0m_validate_indexer\u001b[0m\u001b[0;34m(\u001b[0m\u001b[0;34m'slice'\u001b[0m\u001b[0;34m,\u001b[0m \u001b[0mkey\u001b[0m\u001b[0;34m.\u001b[0m\u001b[0mstop\u001b[0m\u001b[0;34m,\u001b[0m \u001b[0mkind\u001b[0m\u001b[0;34m)\u001b[0m\u001b[0;34m,\u001b[0m\u001b[0;34m\u001b[0m\u001b[0m\n\u001b[0m\u001b[1;32m   1048\u001b[0m                              self._validate_indexer('slice', key.step, kind))\n\u001b[1;32m   1049\u001b[0m \u001b[0;34m\u001b[0m\u001b[0m\n",
      "\u001b[0;32m/Library/Frameworks/Python.framework/Versions/3.5/lib/python3.5/site-packages/pandas/indexes/base.py\u001b[0m in \u001b[0;36m_validate_indexer\u001b[0;34m(self, form, key, kind)\u001b[0m\n\u001b[1;32m   2736\u001b[0m             \u001b[0;32mpass\u001b[0m\u001b[0;34m\u001b[0m\u001b[0m\n\u001b[1;32m   2737\u001b[0m         \u001b[0;32melif\u001b[0m \u001b[0mkind\u001b[0m \u001b[0;32min\u001b[0m \u001b[0;34m[\u001b[0m\u001b[0;34m'iloc'\u001b[0m\u001b[0;34m,\u001b[0m \u001b[0;34m'getitem'\u001b[0m\u001b[0;34m]\u001b[0m\u001b[0;34m:\u001b[0m\u001b[0;34m\u001b[0m\u001b[0m\n\u001b[0;32m-> 2738\u001b[0;31m             \u001b[0mself\u001b[0m\u001b[0;34m.\u001b[0m\u001b[0m_invalid_indexer\u001b[0m\u001b[0;34m(\u001b[0m\u001b[0mform\u001b[0m\u001b[0;34m,\u001b[0m \u001b[0mkey\u001b[0m\u001b[0;34m)\u001b[0m\u001b[0;34m\u001b[0m\u001b[0m\n\u001b[0m\u001b[1;32m   2739\u001b[0m         \u001b[0;32mreturn\u001b[0m \u001b[0mkey\u001b[0m\u001b[0;34m\u001b[0m\u001b[0m\n\u001b[1;32m   2740\u001b[0m \u001b[0;34m\u001b[0m\u001b[0m\n",
      "\u001b[0;32m/Library/Frameworks/Python.framework/Versions/3.5/lib/python3.5/site-packages/pandas/indexes/base.py\u001b[0m in \u001b[0;36m_invalid_indexer\u001b[0;34m(self, form, key)\u001b[0m\n\u001b[1;32m   1115\u001b[0m                         \"indexers [{key}] of {kind}\".format(\n\u001b[1;32m   1116\u001b[0m                             \u001b[0mform\u001b[0m\u001b[0;34m=\u001b[0m\u001b[0mform\u001b[0m\u001b[0;34m,\u001b[0m \u001b[0mklass\u001b[0m\u001b[0;34m=\u001b[0m\u001b[0mtype\u001b[0m\u001b[0;34m(\u001b[0m\u001b[0mself\u001b[0m\u001b[0;34m)\u001b[0m\u001b[0;34m,\u001b[0m \u001b[0mkey\u001b[0m\u001b[0;34m=\u001b[0m\u001b[0mkey\u001b[0m\u001b[0;34m,\u001b[0m\u001b[0;34m\u001b[0m\u001b[0m\n\u001b[0;32m-> 1117\u001b[0;31m                             kind=type(key)))\n\u001b[0m\u001b[1;32m   1118\u001b[0m \u001b[0;34m\u001b[0m\u001b[0m\n\u001b[1;32m   1119\u001b[0m     \u001b[0;32mdef\u001b[0m \u001b[0mget_duplicates\u001b[0m\u001b[0;34m(\u001b[0m\u001b[0mself\u001b[0m\u001b[0;34m)\u001b[0m\u001b[0;34m:\u001b[0m\u001b[0;34m\u001b[0m\u001b[0m\n",
      "\u001b[0;31mTypeError\u001b[0m: cannot do slice indexing on <class 'pandas.indexes.range.RangeIndex'> with these indexers [5000.0] of <class 'float'>"
     ]
    }
   ],
   "source": [
    "# Run a method with CV on a particular parameter\n",
    "cv_create()\n",
    "\n",
    "method_p = {}\n",
    "for p in ParameterSpace:\n",
    "    result = method(p, validate)\n",
    "    method_p.add(p, result)\n",
    "argmax = -1\n",
    "best = -1\n",
    "for k,v in method_p:\n",
    "   if v > best:\n",
    "        argmax = k\n",
    "        best = v\n",
    "# run test on argmax and print ROC curve"
   ]
  },
  {
   "cell_type": "code",
   "execution_count": null,
   "metadata": {
    "collapsed": true
   },
   "outputs": [],
   "source": []
  }
 ],
 "metadata": {
  "kernelspec": {
   "display_name": "Python 3",
   "language": "python",
   "name": "python3"
  },
  "language_info": {
   "codemirror_mode": {
    "name": "ipython",
    "version": 3
   },
   "file_extension": ".py",
   "mimetype": "text/x-python",
   "name": "python",
   "nbconvert_exporter": "python",
   "pygments_lexer": "ipython3",
   "version": "3.5.0"
  }
 },
 "nbformat": 4,
 "nbformat_minor": 0
}
